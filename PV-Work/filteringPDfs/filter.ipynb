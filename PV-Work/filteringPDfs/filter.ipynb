{
 "cells": [
  {
   "cell_type": "code",
   "execution_count": 3,
   "id": "695a32dd",
   "metadata": {},
   "outputs": [
    {
     "name": "stdout",
     "output_type": "stream",
     "text": [
      "✅ Kept 119 rows out of 119\n"
     ]
    }
   ],
   "source": [
    "import pandas as pd\n",
    "\n",
    "# Read the Excel file\n",
    "df = pd.read_excel(\"Photovoltaic_Cells_Expert_Annotations.xlsx\")\n",
    "\n",
    "# Convert to CSV if needed\n",
    "df.to_csv(\"Photovoltaic_Cells_Expert_Annotations.csv\", index=False)\n",
    "\n",
    "# Filter: remove rows where \"Main Focus of the Research\" is NaN, \"N/A\", or empty string\n",
    "filtered_df = df[\n",
    "    df[\"Main Focus of the Research\"]\n",
    "    .astype(str)\n",
    "    .str.strip()\n",
    "    .str.lower()\n",
    "    .ne(\"n/a\")  # not equal to 'n/a'\n",
    "    & df[\"Main Focus of the Research\"].astype(str).str.strip().ne(\"\")  # not empty string\n",
    "]\n",
    "\n",
    "# Save cleaned DataFrame\n",
    "filtered_df.to_csv(\"Filtered_Photovoltaic_Cells.csv\", index=False)\n",
    "\n",
    "# Print result\n",
    "print(f\"✅ Kept {len(filtered_df)} rows out of {len(df)}\")\n"
   ]
  },
  {
   "cell_type": "code",
   "execution_count": 2,
   "metadata": {},
   "outputs": [
    {
     "name": "stdout",
     "output_type": "stream",
     "text": [
      "✅ Kept 119 rows out of 119\n"
     ]
    }
   ],
   "source": [
    "cleaned = []\n",
    "\n",
    "for index, row in filtering.iterrows():\n",
    "    main_focus = str(row[\"Main Focus of the Research\"]).strip().lower()\n",
    "    if main_focus not in [\"n/a\", \"\"]:\n",
    "        cleaned.append(row)\n",
    "\n",
    "# Create cleaned DataFrame\n",
    "cleaned_df = pd.DataFrame(cleaned)\n",
    "\n",
    "# Optional: Save cleaned CSV\n",
    "cleaned_df.to_csv(\"Filtered_Photovoltaic_Cells.csv\", index=False)\n",
    "\n",
    "# Print how many rows were kept\n",
    "print(f\"✅ Kept {len(cleaned_df)} rows out of {len(filtering)}\")"
   ]
  },
  {
   "cell_type": "code",
   "execution_count": null,
   "metadata": {},
   "outputs": [],
   "source": []
  }
 ],
 "metadata": {
  "kernelspec": {
   "display_name": "base",
   "language": "python",
   "name": "python3"
  },
  "language_info": {
   "codemirror_mode": {
    "name": "ipython",
    "version": 3
   },
   "file_extension": ".py",
   "mimetype": "text/x-python",
   "name": "python",
   "nbconvert_exporter": "python",
   "pygments_lexer": "ipython3",
   "version": "3.11.4"
  }
 },
 "nbformat": 4,
 "nbformat_minor": 5
}
