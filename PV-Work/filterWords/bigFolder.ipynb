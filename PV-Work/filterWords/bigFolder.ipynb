{
 "cells": [
  {
   "cell_type": "code",
   "execution_count": 3,
   "id": "172f1900",
   "metadata": {},
   "outputs": [
    {
     "name": "stdout",
     "output_type": "stream",
     "text": [
      "Collecting PyMuPDF\n",
      "  Obtaining dependency information for PyMuPDF from https://files.pythonhosted.org/packages/4a/26/8c72973b8833a72785cedc3981eb59b8ac7075942718bbb7b69b352cdde4/pymupdf-1.26.3-cp39-abi3-win_amd64.whl.metadata\n",
      "  Downloading pymupdf-1.26.3-cp39-abi3-win_amd64.whl.metadata (3.4 kB)\n",
      "Downloading pymupdf-1.26.3-cp39-abi3-win_amd64.whl (18.7 MB)\n",
      "   ---------------------------------------- 0.0/18.7 MB ? eta -:--:--\n",
      "   ---------------------------------------- 0.0/18.7 MB 960.0 kB/s eta 0:00:20\n",
      "   ---------------------------------------- 0.2/18.7 MB 1.5 MB/s eta 0:00:13\n",
      "    --------------------------------------- 0.4/18.7 MB 2.7 MB/s eta 0:00:07\n",
      "   - -------------------------------------- 0.9/18.7 MB 4.7 MB/s eta 0:00:04\n",
      "   --- ------------------------------------ 1.7/18.7 MB 7.6 MB/s eta 0:00:03\n",
      "   ------ --------------------------------- 3.2/18.7 MB 11.3 MB/s eta 0:00:02\n",
      "   ---------- ----------------------------- 5.1/18.7 MB 15.5 MB/s eta 0:00:01\n",
      "   --------------- ------------------------ 7.2/18.7 MB 19.1 MB/s eta 0:00:01\n",
      "   ------------------- -------------------- 9.2/18.7 MB 22.7 MB/s eta 0:00:01\n",
      "   -------------------- ------------------- 9.4/18.7 MB 22.3 MB/s eta 0:00:01\n",
      "   ------------------------- -------------- 12.1/18.7 MB 38.6 MB/s eta 0:00:01\n",
      "   ------------------------------ --------- 14.1/18.7 MB 38.6 MB/s eta 0:00:01\n",
      "   ------------------------------------- -- 17.7/18.7 MB 46.7 MB/s eta 0:00:01\n",
      "   ---------------------------------------  18.7/18.7 MB 40.9 MB/s eta 0:00:01\n",
      "   ---------------------------------------- 18.7/18.7 MB 32.8 MB/s eta 0:00:00\n",
      "Installing collected packages: PyMuPDF\n",
      "Successfully installed PyMuPDF-1.26.3\n"
     ]
    }
   ],
   "source": [
    "!pip install PyMuPDF"
   ]
  },
  {
   "cell_type": "code",
   "execution_count": null,
   "id": "d8f8c6a6",
   "metadata": {},
   "outputs": [],
   "source": [
    "!pip uninstall fitz"
   ]
  }
 ],
 "metadata": {
  "kernelspec": {
   "display_name": "base",
   "language": "python",
   "name": "python3"
  },
  "language_info": {
   "codemirror_mode": {
    "name": "ipython",
    "version": 3
   },
   "file_extension": ".py",
   "mimetype": "text/x-python",
   "name": "python",
   "nbconvert_exporter": "python",
   "pygments_lexer": "ipython3",
   "version": "3.11.4"
  }
 },
 "nbformat": 4,
 "nbformat_minor": 5
}
