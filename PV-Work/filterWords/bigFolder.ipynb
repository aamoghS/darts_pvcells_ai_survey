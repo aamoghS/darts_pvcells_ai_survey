{
 "cells": [
  {
   "cell_type": "code",
   "execution_count": 3,
   "id": "172f1900",
   "metadata": {},
   "outputs": [
    {
     "name": "stdout",
     "output_type": "stream",
     "text": [
      "Collecting PyMuPDF\n",
      "  Obtaining dependency information for PyMuPDF from https://files.pythonhosted.org/packages/4a/26/8c72973b8833a72785cedc3981eb59b8ac7075942718bbb7b69b352cdde4/pymupdf-1.26.3-cp39-abi3-win_amd64.whl.metadata\n",
      "  Downloading pymupdf-1.26.3-cp39-abi3-win_amd64.whl.metadata (3.4 kB)\n",
      "Downloading pymupdf-1.26.3-cp39-abi3-win_amd64.whl (18.7 MB)\n",
      "   ---------------------------------------- 0.0/18.7 MB ? eta -:--:--\n",
      "   ---------------------------------------- 0.0/18.7 MB 960.0 kB/s eta 0:00:20\n",
      "   ---------------------------------------- 0.2/18.7 MB 1.5 MB/s eta 0:00:13\n",
      "    --------------------------------------- 0.4/18.7 MB 2.7 MB/s eta 0:00:07\n",
      "   - -------------------------------------- 0.9/18.7 MB 4.7 MB/s eta 0:00:04\n",
      "   --- ------------------------------------ 1.7/18.7 MB 7.6 MB/s eta 0:00:03\n",
      "   ------ --------------------------------- 3.2/18.7 MB 11.3 MB/s eta 0:00:02\n",
      "   ---------- ----------------------------- 5.1/18.7 MB 15.5 MB/s eta 0:00:01\n",
      "   --------------- ------------------------ 7.2/18.7 MB 19.1 MB/s eta 0:00:01\n",
      "   ------------------- -------------------- 9.2/18.7 MB 22.7 MB/s eta 0:00:01\n",
      "   -------------------- ------------------- 9.4/18.7 MB 22.3 MB/s eta 0:00:01\n",
      "   ------------------------- -------------- 12.1/18.7 MB 38.6 MB/s eta 0:00:01\n",
      "   ------------------------------ --------- 14.1/18.7 MB 38.6 MB/s eta 0:00:01\n",
      "   ------------------------------------- -- 17.7/18.7 MB 46.7 MB/s eta 0:00:01\n",
      "   ---------------------------------------  18.7/18.7 MB 40.9 MB/s eta 0:00:01\n",
      "   ---------------------------------------- 18.7/18.7 MB 32.8 MB/s eta 0:00:00\n",
      "Installing collected packages: PyMuPDF\n",
      "Successfully installed PyMuPDF-1.26.3\n"
     ]
    }
   ],
   "source": [
    "!pip install PyMuPDF"
   ]
  },
  {
   "cell_type": "code",
   "execution_count": null,
   "id": "d8f8c6a6",
   "metadata": {},
   "outputs": [],
   "source": [
    "!pip uninstall fitz"
   ]
  },
  {
   "cell_type": "code",
   "execution_count": null,
   "id": "dd99324d",
   "metadata": {},
   "outputs": [
    {
     "name": "stderr",
     "output_type": "stream",
     "text": [
      "Some weights of BertForQuestionAnswering were not initialized from the model checkpoint at allenai/scibert_scivocab_uncased and are newly initialized: ['qa_outputs.bias', 'qa_outputs.weight']\n",
      "You should probably TRAIN this model on a down-stream task to be able to use it for predictions and inference.\n",
      "Device set to use cpu\n"
     ]
    },
    {
     "name": "stdout",
     "output_type": "stream",
     "text": [
      "Found 94 PDFs to process.\n"
     ]
    },
    {
     "name": "stderr",
     "output_type": "stream",
     "text": [
      "Processing PDFs:   1%|          | 1/94 [18:03<27:59:11, 1083.35s/it]"
     ]
    },
    {
     "name": "stdout",
     "output_type": "stream",
     "text": [
      "Saved extracted data for Alansaryi and Alsharif - 2024 - The Effect of Water Vapor and Humidity on the Topcon Photovoltaic Cell copy.pdf to extracted_results\\Alansaryi and Alsharif - 2024 - The Effect of Water Vapor and Humidity on the Topcon Photovoltaic Cell copy_extracted.json\n"
     ]
    },
    {
     "name": "stderr",
     "output_type": "stream",
     "text": [
      "Processing PDFs:   2%|▏         | 2/94 [27:39<20:04:00, 785.22s/it] "
     ]
    },
    {
     "name": "stdout",
     "output_type": "stream",
     "text": [
      "Saved extracted data for Bullock et al. - 2014 - Molybdenum oxide MoOx A versatile hole contact for silicon solar cells  Applied Physics Letters  copy.pdf to extracted_results\\Bullock et al. - 2014 - Molybdenum oxide MoOx A versatile hole contact for silicon solar cells  Applied Physics Letters  copy_extracted.json\n"
     ]
    }
   ],
   "source": [
    "import pdfplumber\n",
    "from transformers import AutoTokenizer, AutoModelForQuestionAnswering, pipeline\n",
    "from pathlib import Path\n",
    "from tqdm import tqdm\n",
    "import json\n",
    "\n",
    "# --- Setup ---\n",
    "PDF_FOLDER = Path(\"files\")  # Your folder of PDFs\n",
    "OUTPUT_FOLDER = Path(\"scibert_output\")\n",
    "OUTPUT_FOLDER.mkdir(exist_ok=True)\n",
    "\n",
    "# Load SciBERT QA pipeline\n",
    "model_name = \"allenai/scibert_scivocab_uncased\"\n",
    "tokenizer = AutoTokenizer.from_pretrained(model_name)\n",
    "model = AutoModelForQuestionAnswering.from_pretrained(model_name)\n",
    "qa_pipeline = pipeline(\"question-answering\", model=model, tokenizer=tokenizer)\n",
    "\n",
    "# --- Your schema mapped to questions ---\n",
    "FIELD_QUESTIONS = {\n",
    "    \"efficiency_percent\": \"What is the power conversion efficiency?\",\n",
    "    \"cell_area_cm2\": \"What is the cell area in square centimeters?\",\n",
    "    \"short_circuit_current_a\": \"What is the short circuit current in amperes?\",\n",
    "    \"short_circuit_current_density_ma_cm2\": \"What is the short circuit current density?\",\n",
    "    \"open_circuit_voltage_v\": \"What is the open circuit voltage?\",\n",
    "    \"fill_factor_percent\": \"What is the fill factor in percent?\",\n",
    "    \"device_type\": \"What is the device type?\",\n",
    "    \"absorber_material\": \"What absorber material is used?\",\n",
    "    \"front_surface_morphology\": \"What is the front surface morphology?\",\n",
    "    \"rear_surface_morphology\": \"What is the rear surface morphology?\",\n",
    "    \"front_surface_passivation_material\": \"What is the front surface passivation material?\",\n",
    "    \"rear_surface_passivation_material\": \"What is the rear surface passivation material?\",\n",
    "    \"negative_metallization_material\": \"What is the negative metallization material?\",\n",
    "    \"positive_metallization_material\": \"What is the positive metallization material?\",\n",
    "    \"research_focus\": \"What is the main research focus of the paper?\",\n",
    "    \"key_findings\": \"What are the key findings of the paper?\"\n",
    "}\n",
    "\n",
    "# --- Process one PDF ---\n",
    "def process_pdf(pdf_path):\n",
    "    field_best_pages = {}\n",
    "    field_best_answers = {}\n",
    "\n",
    "    with pdfplumber.open(pdf_path) as pdf:\n",
    "        for field, question in FIELD_QUESTIONS.items():\n",
    "            best_score = 0\n",
    "            best_page = None\n",
    "            best_answer = \"N/A\"\n",
    "\n",
    "            for i, page in enumerate(pdf.pages):\n",
    "                text = page.extract_text()\n",
    "                if not text or len(text) < 50:\n",
    "                    continue\n",
    "\n",
    "                try:\n",
    "                    result = qa_pipeline({\n",
    "                        \"context\": text,\n",
    "                        \"question\": question\n",
    "                    })\n",
    "\n",
    "                    if result[\"score\"] > best_score and result[\"answer\"].strip() and result[\"answer\"].lower() != \"n/a\":\n",
    "                        best_score = result[\"score\"]\n",
    "                        best_page = i + 1  # 1-based index\n",
    "                        best_answer = result[\"answer\"]\n",
    "                except Exception as e:\n",
    "                    continue  # Handle long inputs or blank pages gracefully\n",
    "\n",
    "            field_best_pages[field] = best_page\n",
    "            field_best_answers[field] = best_answer\n",
    "\n",
    "    return {\n",
    "        \"pdf_name\": pdf_path.name,\n",
    "        \"best_pages\": field_best_pages,\n",
    "        \"answers\": field_best_answers\n",
    "    }\n",
    "\n",
    "# --- Main loop ---\n",
    "def process_all_pdfs():\n",
    "    for pdf_file in PDF_FOLDER.rglob(\"*.pdf\"):\n",
    "        print(f\"Processing {pdf_file.name}\")\n",
    "        result = process_pdf(pdf_file)\n",
    "\n",
    "        output_path = OUTPUT_FOLDER / (pdf_file.stem + \"_scibert_results.json\")\n",
    "        with open(output_path, \"w\") as f:\n",
    "            json.dump(result, f, indent=2)\n",
    "\n",
    "        print(f\"Saved: {output_path.name}\\n\")\n",
    "\n",
    "# --- Run ---\n",
    "if __name__ == \"__main__\":\n",
    "    process_all_pdfs()\n"
   ]
  }
 ],
 "metadata": {
  "kernelspec": {
   "display_name": "base",
   "language": "python",
   "name": "python3"
  },
  "language_info": {
   "codemirror_mode": {
    "name": "ipython",
    "version": 3
   },
   "file_extension": ".py",
   "mimetype": "text/x-python",
   "name": "python",
   "nbconvert_exporter": "python",
   "pygments_lexer": "ipython3",
   "version": "3.11.4"
  }
 },
 "nbformat": 4,
 "nbformat_minor": 5
}
