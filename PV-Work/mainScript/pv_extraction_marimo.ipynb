{
 "cells": [
  {
   "cell_type": "code",
   "execution_count": 1,
   "metadata": {},
   "outputs": [],
   "source": [
    "import marimo\n",
    "\n",
    "__generated_with = \"0.14.9\"\n",
    "app = marimo.App(width=\"medium\")"
   ]
  },
  {
   "cell_type": "code",
   "execution_count": 2,
   "metadata": {},
   "outputs": [],
   "source": [
    "import marimo as mo\n",
    "import pandas as pd\n",
    "import json\n",
    "from pathlib import Path\n",
    "from pydantic import BaseModel, Field, validator\n",
    "from langchain_community.document_loaders import PDFMinerLoader\n",
    "from langchain.text_splitter import RecursiveCharacterTextSplitter\n",
    "from langchain_community.chat_models import ChatOllama\n",
    "from langchain_core.prompts import PromptTemplate\n",
    "from langchain_core.output_parsers import PydanticOutputParser"
   ]
  },
  {
   "cell_type": "code",
   "execution_count": 3,
   "metadata": {},
   "outputs": [],
   "source": [
    "PDF_FOLDER = Path(\"foldersam\")\n",
    "MODEL_NAME = \"gemma3:1b\"\n",
    "OUTPUT_CSV = \"pv_extraction_results_ollama.csv\"\n",
    "CHUNK_SIZE = 6000\n",
    "CHUNK_OVERLAP = 200\n",
    "\n",
    "PROMPT_TEMPLATE = \"\"\"\n",
    "You are extracting structured data from academic articles on photovoltaic cells.\n",
    "\n",
    "Instructions:\n",
    "- Only extract data for the **highest efficiency cell** reported.\n",
    "- Match the schema exactly as specified (see below).\n",
    "- For any field that is not available, return the value as \"N/A\".\n",
    "- Return a single valid **JSON object** (no markdown or code block formatting).\n",
    "- Skip the article's introduction.\n",
    "- Only one entry per article is required.\n",
    "\n",
    "Schema fields:\n",
    "- research_focus\n",
    "- key_findings\n",
    "- device_type\n",
    "- absorber_material\n",
    "- absorber_material_term_used\n",
    "- absorber_dopant_material\n",
    "- absorber_dopant_material_term_used\n",
    "- absorber_dopant_polarity\n",
    "- absorber_dopant_polarity_term_used\n",
    "- front_surface_morphology\n",
    "- front_surface_morphology_term_used\n",
    "- rear_surface_morphology\n",
    "- rear_surface_morphology_term_used\n",
    "- front_surface_passivation_material\n",
    "- front_surface_passivation_material_term_used\n",
    "- rear_surface_passivation_material\n",
    "- rear_surface_passivation_material_term_used\n",
    "- negative_metallization_material\n",
    "- negative_metallization_material_term_used\n",
    "- positive_metallization_material\n",
    "- positive_metallization_material_term_used\n",
    "- efficiency_percent\n",
    "- cell_area_cm2\n",
    "- short_circuit_current_a\n",
    "- short_circuit_current_density_ma_cm2\n",
    "- open_circuit_voltage_v\n",
    "- fill_factor_percent\n",
    "\n",
    "Article:\n",
    "{text}\n",
    "\n",
    "Format like:\n",
    "{format_instructions}\n",
    "\"\"\""
   ]
  },
  {
   "cell_type": "code",
   "execution_count": 4,
   "metadata": {},
   "outputs": [],
   "source": [
    "COLUMN_MAP = {\n",
    "    \"research_focus\": \"Research Focus\", \"key_findings\": \"Key Findings\", \"device_type\": \"Device Type\",\n",
    "    \"absorber_material\": \"Absorber Material\", \"absorber_material_term_used\": \"Absorber Material Term Used\",\n",
    "    \"absorber_dopant_material\": \"Absorber Dopant Material\", \"absorber_dopant_material_term_used\": \"Absorber Dopant Material Term Used\",\n",
    "    \"absorber_dopant_polarity\": \"Absorber Dopant Polarity\", \"absorber_dopant_polarity_term_used\": \"Absorber Dopant Polarity Term Used\",\n",
    "    \"front_surface_morphology\": \"Front Surface Morphology\", \"front_surface_morphology_term_used\": \"Front Surface Morphology Term Used\",\n",
    "    \"rear_surface_morphology\": \"Rear Surface Morphology\", \"rear_surface_morphology_term_used\": \"Rear Surface Morphology Term Used\",\n",
    "    \"front_surface_passivation_material\": \"Front Surface Passivation Material\", \"front_surface_passivation_material_term_used\": \"Front Surface Passivation Material Term Used\",\n",
    "    \"rear_surface_passivation_material\": \"Rear Surface Passivation Material\", \"rear_surface_passivation_material_term_used\": \"Rear Surface Passivation Material Term Used\",\n",
    "    \"negative_metallization_material\": \"Negative Metallization Material\", \"negative_metallization_material_term_used\": \"Negative Metallization Material Term Used\",\n",
    "    \"positive_metallization_material\": \"Positive Metallization Material\", \"positive_metallization_material_term_used\": \"Positive Metallization Material Term Used\",\n",
    "    \"efficiency_percent\": \"Efficiency (%)\", \"cell_area_cm2\": \"Cell Area (cm2)\",\n",
    "    \"short_circuit_current_a\": \"Short-Circuit Current (A)\", \"short_circuit_current_density_ma_cm2\": \"Short-Circuit Current Density (mA/cm2)\",\n",
    "    \"open_circuit_voltage_v\": \"Open-Circuit Voltage (V)\", \"fill_factor_percent\": \"Fill Factor (%)\"\n",
    "}"
   ]
  },
  {
   "cell_type": "code",
   "execution_count": 1,
   "metadata": {},
   "outputs": [
    {
     "ename": "NameError",
     "evalue": "name 'BaseModel' is not defined",
     "output_type": "error",
     "traceback": [
      "\u001b[1;31m---------------------------------------------------------------------------\u001b[0m",
      "\u001b[1;31mNameError\u001b[0m                                 Traceback (most recent call last)",
      "Cell \u001b[1;32mIn[1], line 1\u001b[0m\n\u001b[1;32m----> 1\u001b[0m \u001b[38;5;28;01mclass\u001b[39;00m \u001b[38;5;21;01mPVArticleData\u001b[39;00m(BaseModel):\n\u001b[0;32m      2\u001b[0m     research_focus: \u001b[38;5;28mstr\u001b[39m \u001b[38;5;241m=\u001b[39m Field(\u001b[38;5;124m\"\u001b[39m\u001b[38;5;124mN/A\u001b[39m\u001b[38;5;124m\"\u001b[39m)\n\u001b[0;32m      3\u001b[0m     key_findings: \u001b[38;5;28mstr\u001b[39m \u001b[38;5;241m=\u001b[39m Field(\u001b[38;5;124m\"\u001b[39m\u001b[38;5;124mN/A\u001b[39m\u001b[38;5;124m\"\u001b[39m)\n",
      "\u001b[1;31mNameError\u001b[0m: name 'BaseModel' is not defined"
     ]
    }
   ],
   "source": [
    "class PVArticleData(BaseModel):\n",
    "    research_focus: str = Field(\"N/A\")\n",
    "    key_findings: str = Field(\"N/A\")\n",
    "    device_type: str = Field(\"N/A\")\n",
    "    absorber_material: str = Field(\"N/A\")\n",
    "    absorber_material_term_used: str = Field(\"N/A\")\n",
    "    absorber_dopant_material: str = Field(\"N/A\")\n",
    "    absorber_dopant_material_term_used: str = Field(\"N/A\")\n",
    "    absorber_dopant_polarity: str = Field(\"N/A\")\n",
    "    absorber_dopant_polarity_term_used: str = Field(\"N/A\")\n",
    "    front_surface_morphology: str = Field(\"N/A\")\n",
    "    front_surface_morphology_term_used: str = Field(\"N/A\")\n",
    "    rear_surface_morphology: str = Field(\"N/A\")\n",
    "    rear_surface_morphology_term_used: str = Field(\"N/A\")\n",
    "    front_surface_passivation_material: str = Field(\"N/A\")\n",
    "    front_surface_passivation_material_term_used: str = Field(\"N/A\")\n",
    "    rear_surface_passivation_material: str = Field(\"N/A\")\n",
    "    rear_surface_passivation_material_term_used: str = Field(\"N/A\")\n",
    "    negative_metallization_material: str = Field(\"N/A\")\n",
    "    negative_metallization_material_term_used: str = Field(\"N/A\")\n",
    "    positive_metallization_material: str = Field(\"N/A\")\n",
    "    positive_metallization_material_term_used: str = Field(\"N/A\")\n",
    "    efficiency_percent: str = Field(\"N/A\")\n",
    "    cell_area_cm2: str = Field(\"N/A\")\n",
    "    short_circuit_current_a: str = Field(\"N/A\")\n",
    "    short_circuit_current_density_ma_cm2: str = Field(\"N/A\")\n",
    "    open_circuit_voltage_v: str = Field(\"N/A\")\n",
    "    fill_factor_percent: str = Field(\"N/A\")\n",
    "\n",
    "    @validator(\"*\", pre=True)\n",
    "    def convert_to_string(cls, v):\n",
    "        return \"N/A\" if v is None else str(v)"
   ]
  },
  {
   "cell_type": "code",
   "execution_count": 6,
   "metadata": {},
   "outputs": [],
   "source": [
    "def clean_response_data(response_data):\n",
    "    if isinstance(response_data, list):\n",
    "        response_data = response_data[0] if response_data else {}\n",
    "    if isinstance(response_data, PVArticleData):\n",
    "        return response_data.model_dump()\n",
    "    if isinstance(response_data, str):\n",
    "        cleaned = response_data.strip().removeprefix(\"```json\").removeprefix(\"```\").removesuffix(\"```\").strip()\n",
    "        try:\n",
    "            parsed = json.loads(cleaned)\n",
    "            return parsed[0] if isinstance(parsed, list) else parsed\n",
    "        except json.JSONDecodeError:\n",
    "            return {}\n",
    "    if isinstance(response_data, dict):\n",
    "        return response_data\n",
    "    return {}"
   ]
  },
  {
   "cell_type": "code",
   "execution_count": 7,
   "metadata": {},
   "outputs": [],
   "source": [
    "def count_filled_fields(data: dict) -> int:\n",
    "    return sum(1 for v in data.values() if v != \"N/A\")"
   ]
  },
  {
   "cell_type": "code",
   "execution_count": 8,
   "metadata": {},
   "outputs": [],
   "source": [
    "from tqdm import tqdm\n",
    "\n",
    "def main():\n",
    "    model = ChatOllama(model=MODEL_NAME)\n",
    "    parser = PydanticOutputParser(pydantic_object=PVArticleData)\n",
    "    prompt = PromptTemplate.from_template(PROMPT_TEMPLATE)\n",
    "    chain = prompt | model | parser\n",
    "\n",
    "    pdf_files = list(PDF_FOLDER.rglob(\"*.pdf\"))\n",
    "    results = []\n",
    "\n",
    "    for pdf_file in tqdm(pdf_files, desc=\"Processing PDFs\"):\n",
    "        try:\n",
    "            loader = PDFMinerLoader(str(pdf_file))\n",
    "            docs = loader.load()\n",
    "            full_text = \"\\n\\n\".join([doc.page_content for doc in docs])\n",
    "            splitter = RecursiveCharacterTextSplitter(chunk_size=CHUNK_SIZE, chunk_overlap=CHUNK_OVERLAP)\n",
    "            chunks = splitter.split_text(full_text)\n",
    "\n",
    "            best_data = None\n",
    "            highest_filled_count = 0\n",
    "            for chunk in chunks:\n",
    "                try:\n",
    "                    response = chain.invoke({\n",
    "                        \"text\": chunk,\n",
    "                        \"format_instructions\": parser.get_format_instructions()\n",
    "                    })\n",
    "                    cleaned_data = clean_response_data(response)\n",
    "                    if cleaned_data:\n",
    "                        filled_count = count_filled_fields(cleaned_data)\n",
    "                        if filled_count > highest_filled_count:\n",
    "                            highest_filled_count = filled_count\n",
    "                            best_data = cleaned_data\n",
    "                except Exception:\n",
    "                    continue\n",
    "\n",
    "            if best_data:\n",
    "                article_data = PVArticleData(**best_data)\n",
    "                results.append(article_data.model_dump())\n",
    "        except Exception:\n",
    "            continue\n",
    "\n",
    "    if results:\n",
    "        df = pd.DataFrame(results)\n",
    "        df = df.rename(columns=COLUMN_MAP)\n",
    "        df = df[list(COLUMN_MAP.values())]\n",
    "        df.to_csv(OUTPUT_CSV, index=False)\n",
    "        print(f\"\\nSaved the CSV to {OUTPUT_CSV}\")\n",
    "    else:\n",
    "        print(\"\\nNo results to save.\")"
   ]
  },
  {
   "cell_type": "code",
   "execution_count": null,
   "metadata": {},
   "outputs": [
    {
     "name": "stderr",
     "output_type": "stream",
     "text": [
      "C:\\Users\\bootcamp\\AppData\\Local\\Temp\\ipykernel_27436\\1390650656.py:4: LangChainDeprecationWarning: The class `ChatOllama` was deprecated in LangChain 0.3.1 and will be removed in 1.0.0. An updated version of the class exists in the :class:`~langchain-ollama package and should be used instead. To use it run `pip install -U :class:`~langchain-ollama` and import as `from :class:`~langchain_ollama import ChatOllama``.\n",
      "  model = ChatOllama(model=MODEL_NAME)\n",
      "Processing PDFs:   0%|          | 0/3 [00:00<?, ?it/s]"
     ]
    }
   ],
   "source": [
    "if __name__ == \"__main__\":\n",
    "    main()"
   ]
  },
  {
   "cell_type": "code",
   "execution_count": 1,
   "id": "55f7d995",
   "metadata": {},
   "outputs": [
    {
     "ename": "ExecutableNotFound",
     "evalue": "failed to execute WindowsPath('dot'), make sure the Graphviz executables are on your systems' PATH",
     "output_type": "error",
     "traceback": [
      "\u001b[1;31m---------------------------------------------------------------------------\u001b[0m",
      "\u001b[1;31mFileNotFoundError\u001b[0m                         Traceback (most recent call last)",
      "File \u001b[1;32mc:\\Users\\bootcamp\\anaconda3\\Lib\\site-packages\\graphviz\\backend\\execute.py:78\u001b[0m, in \u001b[0;36mrun_check\u001b[1;34m(cmd, input_lines, encoding, quiet, **kwargs)\u001b[0m\n\u001b[0;32m     77\u001b[0m     \u001b[38;5;28;01melse\u001b[39;00m:\n\u001b[1;32m---> 78\u001b[0m         proc \u001b[38;5;241m=\u001b[39m subprocess\u001b[38;5;241m.\u001b[39mrun(cmd, \u001b[38;5;241m*\u001b[39m\u001b[38;5;241m*\u001b[39mkwargs)\n\u001b[0;32m     79\u001b[0m \u001b[38;5;28;01mexcept\u001b[39;00m \u001b[38;5;167;01mOSError\u001b[39;00m \u001b[38;5;28;01mas\u001b[39;00m e:\n",
      "File \u001b[1;32mc:\\Users\\bootcamp\\anaconda3\\Lib\\subprocess.py:548\u001b[0m, in \u001b[0;36mrun\u001b[1;34m(input, capture_output, timeout, check, *popenargs, **kwargs)\u001b[0m\n\u001b[0;32m    546\u001b[0m     kwargs[\u001b[38;5;124m'\u001b[39m\u001b[38;5;124mstderr\u001b[39m\u001b[38;5;124m'\u001b[39m] \u001b[38;5;241m=\u001b[39m PIPE\n\u001b[1;32m--> 548\u001b[0m \u001b[38;5;28;01mwith\u001b[39;00m Popen(\u001b[38;5;241m*\u001b[39mpopenargs, \u001b[38;5;241m*\u001b[39m\u001b[38;5;241m*\u001b[39mkwargs) \u001b[38;5;28;01mas\u001b[39;00m process:\n\u001b[0;32m    549\u001b[0m     \u001b[38;5;28;01mtry\u001b[39;00m:\n",
      "File \u001b[1;32mc:\\Users\\bootcamp\\anaconda3\\Lib\\subprocess.py:1026\u001b[0m, in \u001b[0;36mPopen.__init__\u001b[1;34m(self, args, bufsize, executable, stdin, stdout, stderr, preexec_fn, close_fds, shell, cwd, env, universal_newlines, startupinfo, creationflags, restore_signals, start_new_session, pass_fds, user, group, extra_groups, encoding, errors, text, umask, pipesize, process_group)\u001b[0m\n\u001b[0;32m   1023\u001b[0m             \u001b[38;5;28mself\u001b[39m\u001b[38;5;241m.\u001b[39mstderr \u001b[38;5;241m=\u001b[39m io\u001b[38;5;241m.\u001b[39mTextIOWrapper(\u001b[38;5;28mself\u001b[39m\u001b[38;5;241m.\u001b[39mstderr,\n\u001b[0;32m   1024\u001b[0m                     encoding\u001b[38;5;241m=\u001b[39mencoding, errors\u001b[38;5;241m=\u001b[39merrors)\n\u001b[1;32m-> 1026\u001b[0m     \u001b[38;5;28mself\u001b[39m\u001b[38;5;241m.\u001b[39m_execute_child(args, executable, preexec_fn, close_fds,\n\u001b[0;32m   1027\u001b[0m                         pass_fds, cwd, env,\n\u001b[0;32m   1028\u001b[0m                         startupinfo, creationflags, shell,\n\u001b[0;32m   1029\u001b[0m                         p2cread, p2cwrite,\n\u001b[0;32m   1030\u001b[0m                         c2pread, c2pwrite,\n\u001b[0;32m   1031\u001b[0m                         errread, errwrite,\n\u001b[0;32m   1032\u001b[0m                         restore_signals,\n\u001b[0;32m   1033\u001b[0m                         gid, gids, uid, umask,\n\u001b[0;32m   1034\u001b[0m                         start_new_session, process_group)\n\u001b[0;32m   1035\u001b[0m \u001b[38;5;28;01mexcept\u001b[39;00m:\n\u001b[0;32m   1036\u001b[0m     \u001b[38;5;66;03m# Cleanup if the child failed starting.\u001b[39;00m\n",
      "File \u001b[1;32mc:\\Users\\bootcamp\\anaconda3\\Lib\\subprocess.py:1538\u001b[0m, in \u001b[0;36mPopen._execute_child\u001b[1;34m(self, args, executable, preexec_fn, close_fds, pass_fds, cwd, env, startupinfo, creationflags, shell, p2cread, p2cwrite, c2pread, c2pwrite, errread, errwrite, unused_restore_signals, unused_gid, unused_gids, unused_uid, unused_umask, unused_start_new_session, unused_process_group)\u001b[0m\n\u001b[0;32m   1537\u001b[0m \u001b[38;5;28;01mtry\u001b[39;00m:\n\u001b[1;32m-> 1538\u001b[0m     hp, ht, pid, tid \u001b[38;5;241m=\u001b[39m _winapi\u001b[38;5;241m.\u001b[39mCreateProcess(executable, args,\n\u001b[0;32m   1539\u001b[0m                              \u001b[38;5;66;03m# no special security\u001b[39;00m\n\u001b[0;32m   1540\u001b[0m                              \u001b[38;5;28;01mNone\u001b[39;00m, \u001b[38;5;28;01mNone\u001b[39;00m,\n\u001b[0;32m   1541\u001b[0m                              \u001b[38;5;28mint\u001b[39m(\u001b[38;5;129;01mnot\u001b[39;00m close_fds),\n\u001b[0;32m   1542\u001b[0m                              creationflags,\n\u001b[0;32m   1543\u001b[0m                              env,\n\u001b[0;32m   1544\u001b[0m                              cwd,\n\u001b[0;32m   1545\u001b[0m                              startupinfo)\n\u001b[0;32m   1546\u001b[0m \u001b[38;5;28;01mfinally\u001b[39;00m:\n\u001b[0;32m   1547\u001b[0m     \u001b[38;5;66;03m# Child is launched. Close the parent's copy of those pipe\u001b[39;00m\n\u001b[0;32m   1548\u001b[0m     \u001b[38;5;66;03m# handles that only the child should have open.  You need\u001b[39;00m\n\u001b[1;32m   (...)\u001b[0m\n\u001b[0;32m   1551\u001b[0m     \u001b[38;5;66;03m# pipe will not close when the child process exits and the\u001b[39;00m\n\u001b[0;32m   1552\u001b[0m     \u001b[38;5;66;03m# ReadFile will hang.\u001b[39;00m\n",
      "\u001b[1;31mFileNotFoundError\u001b[0m: [WinError 2] The system cannot find the file specified",
      "\nThe above exception was the direct cause of the following exception:\n",
      "\u001b[1;31mExecutableNotFound\u001b[0m                        Traceback (most recent call last)",
      "Cell \u001b[1;32mIn[1], line 19\u001b[0m\n\u001b[0;32m     16\u001b[0m     \u001b[38;5;28;01mfor\u001b[39;00m prereq \u001b[38;5;129;01min\u001b[39;00m prereqs:\n\u001b[0;32m     17\u001b[0m         dot\u001b[38;5;241m.\u001b[39medge(prereq, course)\n\u001b[1;32m---> 19\u001b[0m dot\u001b[38;5;241m.\u001b[39mrender(\u001b[38;5;124m'\u001b[39m\u001b[38;5;124mflowchart\u001b[39m\u001b[38;5;124m'\u001b[39m, \u001b[38;5;28mformat\u001b[39m\u001b[38;5;241m=\u001b[39m\u001b[38;5;124m'\u001b[39m\u001b[38;5;124mpng\u001b[39m\u001b[38;5;124m'\u001b[39m, view\u001b[38;5;241m=\u001b[39m\u001b[38;5;28;01mTrue\u001b[39;00m)\n",
      "File \u001b[1;32mc:\\Users\\bootcamp\\anaconda3\\Lib\\site-packages\\graphviz\\_tools.py:171\u001b[0m, in \u001b[0;36mdeprecate_positional_args.<locals>.decorator.<locals>.wrapper\u001b[1;34m(*args, **kwargs)\u001b[0m\n\u001b[0;32m    162\u001b[0m     wanted \u001b[38;5;241m=\u001b[39m \u001b[38;5;124m'\u001b[39m\u001b[38;5;124m, \u001b[39m\u001b[38;5;124m'\u001b[39m\u001b[38;5;241m.\u001b[39mjoin(\u001b[38;5;124mf\u001b[39m\u001b[38;5;124m'\u001b[39m\u001b[38;5;132;01m{\u001b[39;00mname\u001b[38;5;132;01m}\u001b[39;00m\u001b[38;5;124m=\u001b[39m\u001b[38;5;132;01m{\u001b[39;00mvalue\u001b[38;5;132;01m!r}\u001b[39;00m\u001b[38;5;124m'\u001b[39m\n\u001b[0;32m    163\u001b[0m                        \u001b[38;5;28;01mfor\u001b[39;00m name, value \u001b[38;5;129;01min\u001b[39;00m deprecated\u001b[38;5;241m.\u001b[39mitems())\n\u001b[0;32m    164\u001b[0m     warnings\u001b[38;5;241m.\u001b[39mwarn(\u001b[38;5;124mf\u001b[39m\u001b[38;5;124m'\u001b[39m\u001b[38;5;124mThe signature of \u001b[39m\u001b[38;5;132;01m{\u001b[39;00mfunc\u001b[38;5;241m.\u001b[39m\u001b[38;5;18m__name__\u001b[39m\u001b[38;5;132;01m}\u001b[39;00m\u001b[38;5;124m will be reduced\u001b[39m\u001b[38;5;124m'\u001b[39m\n\u001b[0;32m    165\u001b[0m                   \u001b[38;5;124mf\u001b[39m\u001b[38;5;124m'\u001b[39m\u001b[38;5;124m to \u001b[39m\u001b[38;5;132;01m{\u001b[39;00msupported_number\u001b[38;5;132;01m}\u001b[39;00m\u001b[38;5;124m positional args\u001b[39m\u001b[38;5;124m'\u001b[39m\n\u001b[0;32m    166\u001b[0m                   \u001b[38;5;124mf\u001b[39m\u001b[38;5;124m'\u001b[39m\u001b[38;5;124m \u001b[39m\u001b[38;5;132;01m{\u001b[39;00m\u001b[38;5;28mlist\u001b[39m(supported)\u001b[38;5;132;01m}\u001b[39;00m\u001b[38;5;124m: pass \u001b[39m\u001b[38;5;132;01m{\u001b[39;00mwanted\u001b[38;5;132;01m}\u001b[39;00m\u001b[38;5;124m'\u001b[39m\n\u001b[0;32m    167\u001b[0m                   \u001b[38;5;124m'\u001b[39m\u001b[38;5;124m as keyword arg(s)\u001b[39m\u001b[38;5;124m'\u001b[39m,\n\u001b[0;32m    168\u001b[0m                   stacklevel\u001b[38;5;241m=\u001b[39mstacklevel,\n\u001b[0;32m    169\u001b[0m                   category\u001b[38;5;241m=\u001b[39mcategory)\n\u001b[1;32m--> 171\u001b[0m \u001b[38;5;28;01mreturn\u001b[39;00m func(\u001b[38;5;241m*\u001b[39margs, \u001b[38;5;241m*\u001b[39m\u001b[38;5;241m*\u001b[39mkwargs)\n",
      "File \u001b[1;32mc:\\Users\\bootcamp\\anaconda3\\Lib\\site-packages\\graphviz\\rendering.py:122\u001b[0m, in \u001b[0;36mRender.render\u001b[1;34m(self, filename, directory, view, cleanup, format, renderer, formatter, neato_no_op, quiet, quiet_view, outfile, engine, raise_if_result_exists, overwrite_source)\u001b[0m\n\u001b[0;32m    118\u001b[0m filepath \u001b[38;5;241m=\u001b[39m \u001b[38;5;28mself\u001b[39m\u001b[38;5;241m.\u001b[39msave(filename, directory\u001b[38;5;241m=\u001b[39mdirectory, skip_existing\u001b[38;5;241m=\u001b[39m\u001b[38;5;28;01mNone\u001b[39;00m)\n\u001b[0;32m    120\u001b[0m args\u001b[38;5;241m.\u001b[39mappend(filepath)\n\u001b[1;32m--> 122\u001b[0m rendered \u001b[38;5;241m=\u001b[39m \u001b[38;5;28mself\u001b[39m\u001b[38;5;241m.\u001b[39m_render(\u001b[38;5;241m*\u001b[39margs, \u001b[38;5;241m*\u001b[39m\u001b[38;5;241m*\u001b[39mkwargs)\n\u001b[0;32m    124\u001b[0m \u001b[38;5;28;01mif\u001b[39;00m cleanup:\n\u001b[0;32m    125\u001b[0m     log\u001b[38;5;241m.\u001b[39mdebug(\u001b[38;5;124m'\u001b[39m\u001b[38;5;124mdelete \u001b[39m\u001b[38;5;132;01m%r\u001b[39;00m\u001b[38;5;124m'\u001b[39m, filepath)\n",
      "File \u001b[1;32mc:\\Users\\bootcamp\\anaconda3\\Lib\\site-packages\\graphviz\\_tools.py:171\u001b[0m, in \u001b[0;36mdeprecate_positional_args.<locals>.decorator.<locals>.wrapper\u001b[1;34m(*args, **kwargs)\u001b[0m\n\u001b[0;32m    162\u001b[0m     wanted \u001b[38;5;241m=\u001b[39m \u001b[38;5;124m'\u001b[39m\u001b[38;5;124m, \u001b[39m\u001b[38;5;124m'\u001b[39m\u001b[38;5;241m.\u001b[39mjoin(\u001b[38;5;124mf\u001b[39m\u001b[38;5;124m'\u001b[39m\u001b[38;5;132;01m{\u001b[39;00mname\u001b[38;5;132;01m}\u001b[39;00m\u001b[38;5;124m=\u001b[39m\u001b[38;5;132;01m{\u001b[39;00mvalue\u001b[38;5;132;01m!r}\u001b[39;00m\u001b[38;5;124m'\u001b[39m\n\u001b[0;32m    163\u001b[0m                        \u001b[38;5;28;01mfor\u001b[39;00m name, value \u001b[38;5;129;01min\u001b[39;00m deprecated\u001b[38;5;241m.\u001b[39mitems())\n\u001b[0;32m    164\u001b[0m     warnings\u001b[38;5;241m.\u001b[39mwarn(\u001b[38;5;124mf\u001b[39m\u001b[38;5;124m'\u001b[39m\u001b[38;5;124mThe signature of \u001b[39m\u001b[38;5;132;01m{\u001b[39;00mfunc\u001b[38;5;241m.\u001b[39m\u001b[38;5;18m__name__\u001b[39m\u001b[38;5;132;01m}\u001b[39;00m\u001b[38;5;124m will be reduced\u001b[39m\u001b[38;5;124m'\u001b[39m\n\u001b[0;32m    165\u001b[0m                   \u001b[38;5;124mf\u001b[39m\u001b[38;5;124m'\u001b[39m\u001b[38;5;124m to \u001b[39m\u001b[38;5;132;01m{\u001b[39;00msupported_number\u001b[38;5;132;01m}\u001b[39;00m\u001b[38;5;124m positional args\u001b[39m\u001b[38;5;124m'\u001b[39m\n\u001b[0;32m    166\u001b[0m                   \u001b[38;5;124mf\u001b[39m\u001b[38;5;124m'\u001b[39m\u001b[38;5;124m \u001b[39m\u001b[38;5;132;01m{\u001b[39;00m\u001b[38;5;28mlist\u001b[39m(supported)\u001b[38;5;132;01m}\u001b[39;00m\u001b[38;5;124m: pass \u001b[39m\u001b[38;5;132;01m{\u001b[39;00mwanted\u001b[38;5;132;01m}\u001b[39;00m\u001b[38;5;124m'\u001b[39m\n\u001b[0;32m    167\u001b[0m                   \u001b[38;5;124m'\u001b[39m\u001b[38;5;124m as keyword arg(s)\u001b[39m\u001b[38;5;124m'\u001b[39m,\n\u001b[0;32m    168\u001b[0m                   stacklevel\u001b[38;5;241m=\u001b[39mstacklevel,\n\u001b[0;32m    169\u001b[0m                   category\u001b[38;5;241m=\u001b[39mcategory)\n\u001b[1;32m--> 171\u001b[0m \u001b[38;5;28;01mreturn\u001b[39;00m func(\u001b[38;5;241m*\u001b[39margs, \u001b[38;5;241m*\u001b[39m\u001b[38;5;241m*\u001b[39mkwargs)\n",
      "File \u001b[1;32mc:\\Users\\bootcamp\\anaconda3\\Lib\\site-packages\\graphviz\\backend\\rendering.py:326\u001b[0m, in \u001b[0;36mrender\u001b[1;34m(engine, format, filepath, renderer, formatter, neato_no_op, quiet, outfile, raise_if_result_exists, overwrite_filepath)\u001b[0m\n\u001b[0;32m    322\u001b[0m cmd \u001b[38;5;241m+\u001b[39m\u001b[38;5;241m=\u001b[39m args\n\u001b[0;32m    324\u001b[0m \u001b[38;5;28;01massert\u001b[39;00m filepath \u001b[38;5;129;01mis\u001b[39;00m \u001b[38;5;129;01mnot\u001b[39;00m \u001b[38;5;28;01mNone\u001b[39;00m, \u001b[38;5;124m'\u001b[39m\u001b[38;5;124mwork around pytype false alarm\u001b[39m\u001b[38;5;124m'\u001b[39m\n\u001b[1;32m--> 326\u001b[0m execute\u001b[38;5;241m.\u001b[39mrun_check(cmd,\n\u001b[0;32m    327\u001b[0m                   cwd\u001b[38;5;241m=\u001b[39mfilepath\u001b[38;5;241m.\u001b[39mparent \u001b[38;5;28;01mif\u001b[39;00m filepath\u001b[38;5;241m.\u001b[39mparent\u001b[38;5;241m.\u001b[39mparts \u001b[38;5;28;01melse\u001b[39;00m \u001b[38;5;28;01mNone\u001b[39;00m,\n\u001b[0;32m    328\u001b[0m                   quiet\u001b[38;5;241m=\u001b[39mquiet,\n\u001b[0;32m    329\u001b[0m                   capture_output\u001b[38;5;241m=\u001b[39m\u001b[38;5;28;01mTrue\u001b[39;00m)\n\u001b[0;32m    331\u001b[0m \u001b[38;5;28;01mreturn\u001b[39;00m os\u001b[38;5;241m.\u001b[39mfspath(outfile)\n",
      "File \u001b[1;32mc:\\Users\\bootcamp\\anaconda3\\Lib\\site-packages\\graphviz\\backend\\execute.py:81\u001b[0m, in \u001b[0;36mrun_check\u001b[1;34m(cmd, input_lines, encoding, quiet, **kwargs)\u001b[0m\n\u001b[0;32m     79\u001b[0m \u001b[38;5;28;01mexcept\u001b[39;00m \u001b[38;5;167;01mOSError\u001b[39;00m \u001b[38;5;28;01mas\u001b[39;00m e:\n\u001b[0;32m     80\u001b[0m     \u001b[38;5;28;01mif\u001b[39;00m e\u001b[38;5;241m.\u001b[39merrno \u001b[38;5;241m==\u001b[39m errno\u001b[38;5;241m.\u001b[39mENOENT:\n\u001b[1;32m---> 81\u001b[0m         \u001b[38;5;28;01mraise\u001b[39;00m ExecutableNotFound(cmd) \u001b[38;5;28;01mfrom\u001b[39;00m \u001b[38;5;21;01me\u001b[39;00m\n\u001b[0;32m     82\u001b[0m     \u001b[38;5;28;01mraise\u001b[39;00m\n\u001b[0;32m     84\u001b[0m \u001b[38;5;28;01mif\u001b[39;00m \u001b[38;5;129;01mnot\u001b[39;00m quiet \u001b[38;5;129;01mand\u001b[39;00m proc\u001b[38;5;241m.\u001b[39mstderr:\n",
      "\u001b[1;31mExecutableNotFound\u001b[0m: failed to execute WindowsPath('dot'), make sure the Graphviz executables are on your systems' PATH"
     ]
    }
   ],
   "source": [
    "from graphviz import Digraph\n",
    "\n",
    "# Example: list of (course, [prereqs])\n",
    "courses = {\n",
    "    'CS 1331': [],\n",
    "    'CS 1332': ['CS 1331'],\n",
    "    'CS 2050': ['CS 1332'],\n",
    "    'CS 2110': ['CS 1332'],\n",
    "    'CS 2340': ['CS 1332', 'CS 2050']\n",
    "}\n",
    "\n",
    "dot = Digraph()\n",
    "\n",
    "for course, prereqs in courses.items():\n",
    "    dot.node(course)\n",
    "    for prereq in prereqs:\n",
    "        dot.edge(prereq, course)\n",
    "\n",
    "dot.render('flowchart', format='png', view=True)\n"
   ]
  }
 ],
 "metadata": {
  "kernelspec": {
   "display_name": "base",
   "language": "python",
   "name": "python3"
  },
  "language_info": {
   "codemirror_mode": {
    "name": "ipython",
    "version": 3
   },
   "file_extension": ".py",
   "mimetype": "text/x-python",
   "name": "python",
   "nbconvert_exporter": "python",
   "pygments_lexer": "ipython3",
   "version": "3.11.4"
  }
 },
 "nbformat": 4,
 "nbformat_minor": 5
}
